{
 "cells": [
  {
   "cell_type": "markdown",
   "metadata": {},
   "source": [
    "# Infer model on array"
   ]
  },
  {
   "cell_type": "markdown",
   "metadata": {},
   "source": [
    "---"
   ]
  },
  {
   "cell_type": "markdown",
   "metadata": {},
   "source": [
    "## Imports"
   ]
  },
  {
   "cell_type": "code",
   "execution_count": 9,
   "metadata": {},
   "outputs": [],
   "source": [
    "import torch\n",
    "import xbatcher\n",
    "import xarray as xr\n",
    "import numpy as np\n",
    "import pytest\n",
    "\n",
    "from functions import _get_output_array_size"
   ]
  },
  {
   "cell_type": "markdown",
   "metadata": {},
   "source": [
    "## Testing the array size function"
   ]
  },
  {
   "cell_type": "code",
   "execution_count": 10,
   "metadata": {},
   "outputs": [
    {
     "name": "stdout",
     "output_type": "stream",
     "text": [
      "Overwriting test_get_array_size.py\n"
     ]
    }
   ],
   "source": [
    "%%writefile test_get_array_size.py\n",
    "import torch\n",
    "import xbatcher\n",
    "import xarray as xr\n",
    "import numpy as np\n",
    "import pytest\n",
    "\n",
    "from functions import _get_output_array_size"
   ]
  },
  {
   "cell_type": "code",
   "execution_count": 11,
   "metadata": {},
   "outputs": [
    {
     "name": "stdout",
     "output_type": "stream",
     "text": [
      "Appending to test_get_array_size.py\n"
     ]
    }
   ],
   "source": [
    "%%writefile -a test_get_array_size.py\n",
    "\n",
    "@pytest.fixture\n",
    "def bgen_fixture() -> xbatcher.BatchGenerator:\n",
    "    data = xr.DataArray(\n",
    "        data=np.random.rand(100, 100, 10),\n",
    "        dims=(\"x\", \"y\", \"t\"),\n",
    "        coords={\n",
    "            \"x\": np.arange(100),\n",
    "            \"y\": np.arange(100),\n",
    "            \"t\": np.arange(10),\n",
    "        }\n",
    "    )\n",
    "    \n",
    "    bgen = xbatcher.BatchGenerator(\n",
    "        data,\n",
    "        input_dims=dict(x=10, y=10),\n",
    "        input_overlap=dict(x=5, y=5),\n",
    "    )\n",
    "    return bgen\n",
    "\n",
    "@pytest.mark.parametrize(\n",
    "    \"case_description, output_tensor_dim, new_dim, resample_dim, expected_output\",\n",
    "    [\n",
    "        (\n",
    "            \"Resampling only: Downsample x, Upsample y\",\n",
    "            {'x': 5, 'y': 20},  \n",
    "            [],\n",
    "            ['x', 'y'],\n",
    "            {'x': 50, 'y': 200} \n",
    "        ),\n",
    "        (\n",
    "            \"New dimensions only: Add a 'channel' dimension\",\n",
    "            {'channel': 3},\n",
    "            ['channel'],\n",
    "            [],\n",
    "            {'channel': 3}\n",
    "        ),\n",
    "        (\n",
    "            \"Mixed: Resample x and add new channel dimension\",\n",
    "            {'x': 30, 'channel': 12}, \n",
    "            ['channel'],\n",
    "            ['x'],\n",
    "            {'x': 300, 'channel': 12} \n",
    "        ),\n",
    "        (\n",
    "            \"Identity resampling (ratio=1)\",\n",
    "            {'x': 10, 'y': 10},\n",
    "            [],\n",
    "            ['x', 'y'],\n",
    "            {'x': 100, 'y': 100} \n",
    "        ),\n",
    "        (\n",
    "            \"Dimension not in batcher is treated as new\",\n",
    "            {'t': 5},\n",
    "            ['t'],\n",
    "            [],\n",
    "            {'t': 5}\n",
    "        )\n",
    "        \n",
    "    ]\n",
    ")\n",
    "def test_get_output_array_size_scenarios(\n",
    "    bgen_fixture,  # The fixture is passed as an argument\n",
    "    case_description,\n",
    "    output_tensor_dim,\n",
    "    new_dim,\n",
    "    resample_dim,\n",
    "    expected_output\n",
    "):\n",
    "    \"\"\"\n",
    "    Tests various valid scenarios for calculating the output array size.\n",
    "    The `case_description` parameter is not used in the code but helps make\n",
    "    test results more readable.\n",
    "    \"\"\"\n",
    "    # The `bgen_fixture` argument is the BatchGenerator instance created by our fixture\n",
    "    result = _get_output_array_size(\n",
    "        bgen=bgen_fixture,\n",
    "        output_tensor_dim=output_tensor_dim,\n",
    "        new_dim=new_dim,\n",
    "        resample_dim=resample_dim\n",
    "    )\n",
    "    \n",
    "    assert result == expected_output, f\"Failed on case: {case_description}\""
   ]
  },
  {
   "cell_type": "code",
   "execution_count": 12,
   "metadata": {},
   "outputs": [
    {
     "name": "stdout",
     "output_type": "stream",
     "text": [
      "Appending to test_get_array_size.py\n"
     ]
    }
   ],
   "source": [
    "%%writefile -a test_get_array_size.py\n",
    "\n",
    "def test_get_output_array_size_raises_assertion_error_on_non_integer_size():\n",
    "    \"\"\"\n",
    "    Tests that the function raises an AssertionError when the resampling\n",
    "    calculation results in a non-integer output dimension size.\n",
    "    \"\"\"\n",
    "    # DataArray size for 'x' is 101.\n",
    "    data_for_error = xr.DataArray(\n",
    "        data=np.random.rand(101, 100, 10),\n",
    "        dims=(\"x\", \"y\", \"t\")\n",
    "    )\n",
    "    \n",
    "    bgen = xbatcher.BatchGenerator(data_for_error, input_dims={'x': 10})\n",
    "    \n",
    "    # The resampling logic will be: 101 * (5 / 10) = 50.5, which is not an integer.\n",
    "    output_tensor_dim = {'x': 5}\n",
    "    \n",
    "    with pytest.raises(AssertionError):\n",
    "        _get_output_array_size(\n",
    "            bgen=bgen,\n",
    "            output_tensor_dim=output_tensor_dim,\n",
    "            new_dim=[],\n",
    "            resample_dim=['x']\n",
    "        )"
   ]
  },
  {
   "cell_type": "code",
   "execution_count": 13,
   "metadata": {},
   "outputs": [
    {
     "name": "stdout",
     "output_type": "stream",
     "text": [
      "\u001b[1m============================= test session starts ==============================\u001b[0m\n",
      "platform linux -- Python 3.12.11, pytest-8.4.1, pluggy-1.6.0 -- /srv/conda/envs/notebook/bin/python3.12\n",
      "cachedir: .pytest_cache\n",
      "rootdir: /home/jovyan/xbatcher-deep-learning/notebooks\n",
      "plugins: anyio-4.9.0, hydra-core-1.3.2, jaxtyping-0.3.2\n",
      "collected 6 items                                                              \u001b[0m\u001b[1m\n",
      "\n",
      "test_get_array_size.py::test_get_output_array_size_scenarios[Resampling only: Downsample x, Upsample y-output_tensor_dim0-new_dim0-resample_dim0-expected_output0] \u001b[32mPASSED\u001b[0m\u001b[32m [ 16%]\u001b[0m\n",
      "test_get_array_size.py::test_get_output_array_size_scenarios[New dimensions only: Add a 'channel' dimension-output_tensor_dim1-new_dim1-resample_dim1-expected_output1] \u001b[32mPASSED\u001b[0m\u001b[32m [ 33%]\u001b[0m\n",
      "test_get_array_size.py::test_get_output_array_size_scenarios[Mixed: Resample x and add new channel dimension-output_tensor_dim2-new_dim2-resample_dim2-expected_output2] \u001b[32mPASSED\u001b[0m\u001b[32m [ 50%]\u001b[0m\n",
      "test_get_array_size.py::test_get_output_array_size_scenarios[Identity resampling (ratio=1)-output_tensor_dim3-new_dim3-resample_dim3-expected_output3] \u001b[32mPASSED\u001b[0m\u001b[32m [ 66%]\u001b[0m\n",
      "test_get_array_size.py::test_get_output_array_size_scenarios[Dimension not in batcher is treated as new-output_tensor_dim4-new_dim4-resample_dim4-expected_output4] \u001b[32mPASSED\u001b[0m\u001b[32m [ 83%]\u001b[0m\n",
      "test_get_array_size.py::test_get_output_array_size_raises_assertion_error_on_non_integer_size \u001b[32mPASSED\u001b[0m\u001b[32m [100%]\u001b[0m\n",
      "\n",
      "\u001b[32m============================== \u001b[32m\u001b[1m6 passed\u001b[0m\u001b[32m in 2.52s\u001b[0m\u001b[32m ===============================\u001b[0m\n"
     ]
    }
   ],
   "source": [
    "!pytest -v"
   ]
  },
  {
   "cell_type": "code",
   "execution_count": null,
   "metadata": {},
   "outputs": [],
   "source": []
  }
 ],
 "metadata": {
  "kernelspec": {
   "display_name": "Python 3 (ipykernel)",
   "language": "python",
   "name": "python3"
  },
  "language_info": {
   "codemirror_mode": {
    "name": "ipython",
    "version": 3
   },
   "file_extension": ".py",
   "mimetype": "text/x-python",
   "name": "python",
   "nbconvert_exporter": "python",
   "pygments_lexer": "ipython3",
   "version": "3.10.16"
  },
  "nbdime-conflicts": {
   "local_diff": [
    {
     "diff": [
      {
       "diff": [
        {
         "key": 0,
         "op": "addrange",
         "valuelist": [
          "Python 3"
         ]
        },
        {
         "key": 0,
         "length": 1,
         "op": "removerange"
        }
       ],
       "key": "display_name",
       "op": "patch"
      }
     ],
     "key": "kernelspec",
     "op": "patch"
    }
   ],
   "remote_diff": [
    {
     "diff": [
      {
       "diff": [
        {
         "key": 0,
         "op": "addrange",
         "valuelist": [
          "Python3"
         ]
        },
        {
         "key": 0,
         "length": 1,
         "op": "removerange"
        }
       ],
       "key": "display_name",
       "op": "patch"
      }
     ],
     "key": "kernelspec",
     "op": "patch"
    }
   ]
  },
  "toc-autonumbering": false
 },
 "nbformat": 4,
 "nbformat_minor": 4
}
