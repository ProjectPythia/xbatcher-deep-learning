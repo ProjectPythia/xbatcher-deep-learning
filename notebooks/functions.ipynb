{
 "cells": [
  {
   "cell_type": "markdown",
   "id": "a4a784f3-7130-4c1d-aa11-eb02d614ee76",
   "metadata": {},
   "source": [
    "# Functions for other notebooks to use"
   ]
  },
  {
   "cell_type": "code",
   "execution_count": null,
   "id": "0d976e10-f285-4682-a532-ecfe9106a9f8",
   "metadata": {},
   "outputs": [],
   "source": [
    "import xarray as xr\n",
    "import numpy as np\n",
    "import xbatcher\n",
    "from xbatcher.loaders.torch import MapDataset\n",
    "import torch\n",
    "\n",
    "def _get_output_array_size(\n",
    "    bgen: xbatcher.BatchGenerator,\n",
    "    output_tensor_dim: dict[str, int],\n",
    "    new_dim: list[str],\n",
    "    resample_dim: list[str]\n",
    "):\n",
    "    output_size = {}\n",
    "    for key, size in output_tensor_dim.items():\n",
    "        if key in new_dim:\n",
    "            # This is a new axis, size is determined\n",
    "            # by the tensor size.\n",
    "            output_size[key] = output_tensor_dim[key]\n",
    "        else:\n",
    "            # This is a resampled axis, determine the new size\n",
    "            # by the ratio of the batchgen window to the tensor size.\n",
    "            window_size = bgen.input_dims[key]\n",
    "            tensor_size = output_tensor_dim[key]\n",
    "            resample_ratio = tensor_size / window_size\n",
    "    \n",
    "            temp_output_size = bgen.ds.sizes[key] * resample_ratio\n",
    "            assert temp_output_size.is_integer()\n",
    "            output_size[key] = int(temp_output_size)\n",
    "    return output_size"
   ]
  },
  {
   "cell_type": "code",
   "execution_count": null,
   "id": "eb717cb1-1715-4441-8b67-5593d1dbd6b8",
   "metadata": {},
   "outputs": [],
   "source": [
    "def predict_on_array(\n",
    "    dataset: MapDataset,\n",
    "    model: torch.nn.Module,\n",
    "    output_tensor_dim: dict[str, int],\n",
    "    new_dim: list[str],\n",
    "    resample_dim: list[str],\n",
    "    batch_size: int=16\n",
    "):\n",
    "    # Set up output array\n",
    "    output_size = _get_output_array_size(dataset.X_generator, output_tensor_dim, new_dim, resample_dim)\n",
    "            \n",
    "    output_da = xr.DataArray(\n",
    "        data=np.zeros(tuple(output_size.values())),\n",
    "        dims=tuple(output_size.keys())\n",
    "    )\n",
    "    output_n = xr.full_like(output_da, 0)\n",
    "    \n",
    "    # Prepare data laoder\n",
    "    loader = torch.utils.data.DataLoader(dataset, batch_size=batch_size)\n",
    "\n",
    "    '''\n",
    "    for i, batch in enumerate(loader):\n",
    "        out_batch = model(batch).detach().numpy()\n",
    "\n",
    "        # Iterate over each example in the batch\n",
    "        for ib in range(out_batch.shape[0]):\n",
    "            # Get the slice object associated with this example\n",
    "            old_indexer = dataset.X_generator._batch_selectors.selectors[(i*batch_size)+ib][0]\n",
    "            # Only index into axes that are resampled, rescaling the bounds\n",
    "            new_indexer = dict()\n",
    "            for key in old_indexer:\n",
    "                if key in resample_dim:\n",
    "                    resample_ratio = output_tensor_dim[key] / dataset.X_generator.input_dims[key]\n",
    "\n",
    "            \n",
    "            output_da.loc[new_indexer] += out_batch[ib, ...]\n",
    "            output_n.loc[new_indexer] += 1\n",
    "    '''\n",
    "    \n",
    "\n",
    "    # TODO aggregate output\n",
    "    return output_da"
   ]
  }
 ],
 "metadata": {
  "kernelspec": {
   "display_name": "Python 3 (ipykernel)",
   "language": "python",
   "name": "python3"
  },
  "language_info": {
   "codemirror_mode": {
    "name": "ipython",
    "version": 3
   },
   "file_extension": ".py",
   "mimetype": "text/x-python",
   "name": "python",
   "nbconvert_exporter": "python",
   "pygments_lexer": "ipython3",
   "version": "3.10.16"
  }
 },
 "nbformat": 4,
 "nbformat_minor": 5
}
