{
 "cells": [
  {
   "cell_type": "markdown",
   "metadata": {},
   "source": [
    "# Infer model on array"
   ]
  },
  {
   "cell_type": "markdown",
   "metadata": {},
   "source": [
    "---"
   ]
  },
  {
   "cell_type": "markdown",
   "metadata": {},
   "source": [
    "## Imports"
   ]
  },
  {
   "cell_type": "code",
   "execution_count": null,
   "metadata": {},
   "outputs": [],
   "source": [
    "import torch\n",
    "import xbatcher\n",
    "import xarray as xr\n",
    "import numpy as np\n",
    "import pytest\n",
    "\n",
    "from functions import _get_output_array_size, predict_on_array"
   ]
  },
  {
   "cell_type": "markdown",
   "metadata": {},
   "source": [
    "## Testing the array size function"
   ]
  },
  {
   "cell_type": "code",
   "execution_count": null,
   "metadata": {},
   "outputs": [],
   "source": [
    "%%writefile test_get_array_size.py\n",
    "import torch\n",
    "import xbatcher\n",
    "import xarray as xr\n",
    "import numpy as np\n",
    "import pytest\n",
    "\n",
    "from functions import _get_output_array_size, _get_resample_factor"
   ]
  },
  {
   "cell_type": "code",
   "execution_count": null,
   "metadata": {},
   "outputs": [],
   "source": [
    "%%writefile -a test_get_array_size.py\n",
    "\n",
    "@pytest.fixture\n",
    "def bgen_fixture() -> xbatcher.BatchGenerator:\n",
    "    data = xr.DataArray(\n",
    "        data=np.random.rand(100, 100, 10),\n",
    "        dims=(\"x\", \"y\", \"t\"),\n",
    "        coords={\n",
    "            \"x\": np.arange(100),\n",
    "            \"y\": np.arange(100),\n",
    "            \"t\": np.arange(10),\n",
    "        }\n",
    "    )\n",
    "    \n",
    "    bgen = xbatcher.BatchGenerator(\n",
    "        data,\n",
    "        input_dims=dict(x=10, y=10),\n",
    "        input_overlap=dict(x=5, y=5),\n",
    "    )\n",
    "    return bgen\n",
    "\n",
    "@pytest.mark.parametrize(\n",
    "    \"case_description, output_tensor_dim, new_dim, core_dim, resample_dim, expected_output\",\n",
    "    [\n",
    "        (\n",
    "            \"Resampling only: Downsample x, Upsample y\",\n",
    "            {'x': 5, 'y': 20},  \n",
    "            [],\n",
    "            [],\n",
    "            ['x', 'y'],\n",
    "            {'x': 50, 'y': 200} \n",
    "        ),\n",
    "        (\n",
    "            \"New dimensions only: Add a 'channel' dimension\",\n",
    "            {'channel': 3},\n",
    "            ['channel'],\n",
    "            [],\n",
    "            [],\n",
    "            {'channel': 3}\n",
    "        ),\n",
    "        (\n",
    "            \"Mixed: Resample x, add new channel dimension and keep t as core\",\n",
    "            {'x': 30, 'channel': 12, 't': 10}, \n",
    "            ['channel'],\n",
    "            ['t'],\n",
    "            ['x'],\n",
    "            {'x': 300, 'channel': 12, 't': 10} \n",
    "        ),\n",
    "        (\n",
    "            \"Identity resampling (ratio=1)\",\n",
    "            {'x': 10, 'y': 10},\n",
    "            [],\n",
    "            [],\n",
    "            ['x', 'y'],\n",
    "            {'x': 100, 'y': 100} \n",
    "        ),\n",
    "        (\n",
    "            \"Core dims only: 't' is a core dim\",\n",
    "            {'t': 10},\n",
    "            [], \n",
    "            ['t'], \n",
    "            [],\n",
    "            {'t': 10}\n",
    "        ),\n",
    "    ]\n",
    ")\n",
    "def test_get_output_array_size_scenarios(\n",
    "    bgen_fixture,  # The fixture is passed as an argument\n",
    "    case_description,\n",
    "    output_tensor_dim,\n",
    "    new_dim,\n",
    "    core_dim,\n",
    "    resample_dim,\n",
    "    expected_output\n",
    "):\n",
    "    \"\"\"\n",
    "    Tests various valid scenarios for calculating the output array size.\n",
    "    The `case_description` parameter is not used in the code but helps make\n",
    "    test results more readable.\n",
    "    \"\"\"\n",
    "    # The `bgen_fixture` argument is the BatchGenerator instance created by our fixture\n",
    "    result = _get_output_array_size(\n",
    "        bgen=bgen_fixture,\n",
    "        output_tensor_dim=output_tensor_dim,\n",
    "        new_dim=new_dim,\n",
    "        core_dim=core_dim,\n",
    "        resample_dim=resample_dim\n",
    "    )\n",
    "    \n",
    "    assert result == expected_output, f\"Failed on case: {case_description}\""
   ]
  },
  {
   "cell_type": "code",
   "execution_count": null,
   "metadata": {},
   "outputs": [],
   "source": [
    "%%writefile -a test_get_array_size.py\n",
    "\n",
    "def test_get_output_array_size_raises_error_on_mismatched_core_dim(bgen_fixture):\n",
    "    \"\"\"Tests ValueError when a core_dim size doesn't match the source.\"\"\"\n",
    "    with pytest.raises(ValueError, match=\"does not equal the source data array size\"):\n",
    "        _get_output_array_size(\n",
    "            bgen_fixture, output_tensor_dim={'t': 99}, new_dim=[], core_dim=['t'], resample_dim=[]\n",
    "        )\n",
    "\n",
    "def test_get_output_array_size_raises_error_on_unspecified_dim(bgen_fixture):\n",
    "    \"\"\"Tests ValueError when a dimension is not specified in any category.\"\"\"\n",
    "    with pytest.raises(ValueError, match=\"must be specified in one of\"):\n",
    "        _get_output_array_size(\n",
    "            bgen_fixture, output_tensor_dim={'x': 10}, new_dim=[], core_dim=[], resample_dim=[]\n",
    "        )\n",
    "\n",
    "def test_get_resample_factor_raises_error_on_invalid_ratio(bgen_fixture):\n",
    "    \"\"\"Tests AssertionError when the resample ratio is not an integer or its inverse.\"\"\"\n",
    "    with pytest.raises(AssertionError, match=\"must be an integer or its inverse\"):\n",
    "        # 15 / 10 = 1.5, which is not a valid ratio\n",
    "        _get_resample_factor(bgen_fixture, output_tensor_dim={'x': 15}, resample_dim=['x'])"
   ]
  },
  {
   "cell_type": "code",
   "execution_count": null,
   "metadata": {},
   "outputs": [],
   "source": [
    "!pytest -v test_get_array_size.py"
   ]
  },
  {
   "cell_type": "markdown",
   "metadata": {},
   "source": [
    "## Testing the predict_on_array function"
   ]
  },
  {
   "cell_type": "code",
   "execution_count": null,
   "metadata": {},
   "outputs": [],
   "source": [
    "%%writefile test_predict_on_array.py\n",
    "import xarray as xr\n",
    "import numpy as np\n",
    "import torch\n",
    "import xbatcher\n",
    "import pytest\n",
    "from xbatcher.loaders.torch import MapDataset\n",
    "\n",
    "from functions import _get_output_array_size, _resample_coordinate\n",
    "from functions import predict_on_array, _get_resample_factor\n",
    "from dummy_models import Identity, MeanAlongDim, SubsetAlongAxis, ExpandAlongAxis, AddAxis"
   ]
  },
  {
   "cell_type": "code",
   "execution_count": null,
   "metadata": {},
   "outputs": [],
   "source": [
    "import xarray as xr\n",
    "import numpy as np\n",
    "import torch\n",
    "import xbatcher\n",
    "import pytest\n",
    "from xbatcher.loaders.torch import MapDataset\n",
    "\n",
    "from functions import *\n",
    "from dummy_models import *"
   ]
  },
  {
   "cell_type": "code",
   "execution_count": null,
   "metadata": {},
   "outputs": [],
   "source": [
    "input_tensor = torch.arange(125).reshape((5, 5, 5)).to(torch.float32)\n",
    "input_tensor[0,0,:]"
   ]
  },
  {
   "cell_type": "code",
   "execution_count": null,
   "metadata": {},
   "outputs": [],
   "source": [
    "model = ExpandAlongAxis(1, 2)\n",
    "model(input_tensor).shape"
   ]
  },
  {
   "cell_type": "code",
   "execution_count": null,
   "metadata": {},
   "outputs": [],
   "source": [
    "%%writefile -a test_predict_on_array.py\n",
    "\n",
    "@pytest.fixture\n",
    "def map_dataset_fixture() -> MapDataset:\n",
    "    data = xr.DataArray(\n",
    "        data=np.arange(20 * 10).reshape(20, 10).astype(np.float32),\n",
    "        dims=(\"x\", \"y\"),\n",
    "        coords={\"x\": np.arange(20, dtype=float), \"y\": np.arange(10, dtype=float)},\n",
    "    )\n",
    "    bgen = xbatcher.BatchGenerator(data, input_dims=dict(x=10, y=5), input_overlap=dict(x=2, y=2))\n",
    "    return MapDataset(bgen)\n"
   ]
  },
  {
   "cell_type": "code",
   "execution_count": null,
   "metadata": {},
   "outputs": [],
   "source": [
    "data = xr.DataArray(\n",
    "    data=np.arange(20 * 10).reshape(20, 10),\n",
    "    dims=(\"x\", \"y\"),\n",
    "    coords={\"x\": np.arange(20), \"y\": np.arange(10)}\n",
    ").astype(float)\n",
    "\n",
    "bgen = xbatcher.BatchGenerator(\n",
    "    data,\n",
    "    input_dims=dict(x=10, y=5),\n",
    "    input_overlap=dict(x=2, y=2)\n",
    ")"
   ]
  },
  {
   "cell_type": "code",
   "execution_count": null,
   "metadata": {},
   "outputs": [],
   "source": [
    "ds = MapDataset(bgen)"
   ]
  },
  {
   "cell_type": "code",
   "execution_count": null,
   "metadata": {},
   "outputs": [],
   "source": [
    "data"
   ]
  },
  {
   "cell_type": "code",
   "execution_count": null,
   "metadata": {},
   "outputs": [],
   "source": [
    "ds[1]"
   ]
  },
  {
   "cell_type": "code",
   "execution_count": null,
   "metadata": {},
   "outputs": [],
   "source": [
    "output_tensor_dim = {'x': 20, 'y': 5}\n",
    "resample_dim = ['x', 'y']\n",
    "core_dim = []\n",
    "new_dim = []"
   ]
  },
  {
   "cell_type": "code",
   "execution_count": null,
   "metadata": {},
   "outputs": [],
   "source": [
    "ds[0].shape"
   ]
  },
  {
   "cell_type": "code",
   "execution_count": null,
   "metadata": {},
   "outputs": [],
   "source": [
    "model(ds[0]).shape"
   ]
  },
  {
   "cell_type": "code",
   "execution_count": null,
   "metadata": {},
   "outputs": [],
   "source": [
    "import functions\n",
    "from importlib import reload\n",
    "reload(functions)\n",
    "result = functions.predict_on_array(\n",
    "    ds,\n",
    "    model,\n",
    "    output_tensor_dim=output_tensor_dim,\n",
    "    new_dim=new_dim,\n",
    "    core_dim=core_dim,\n",
    "    resample_dim=resample_dim,\n",
    "    batch_size=4\n",
    "    progress_bar=False\n",
    ")"
   ]
  },
  {
   "cell_type": "code",
   "execution_count": null,
   "metadata": {},
   "outputs": [],
   "source": [
    "%%writefile -a test_predict_on_array.py\n",
    "\n",
    "@pytest.mark.parametrize(\"factor, mode, expected\", [\n",
    "    (2.0, \"edges\", np.arange(0, 10, 0.5)),\n",
    "    (0.5, \"edges\", np.arange(0, 10, 2.0)),\n",
    "])\n",
    "def test_resample_coordinate(factor, mode, expected):\n",
    "    coord = xr.DataArray(np.arange(10, dtype=float), dims=\"x\")\n",
    "    resampled = _resample_coordinate(coord, factor, mode)\n",
    "    np.testing.assert_allclose(resampled, expected)"
   ]
  },
  {
   "cell_type": "code",
   "execution_count": null,
   "metadata": {},
   "outputs": [],
   "source": [
    "%%writefile -a test_predict_on_array.py\n",
    "\n",
    "@pytest.mark.parametrize(\n",
    "    \"model, output_tensor_dim, new_dim, core_dim, resample_dim, manual_transform\",\n",
    "    [\n",
    "        # Case 1: Identity - No change\n",
    "        (\n",
    "            Identity(),\n",
    "            {'x': 10, 'y': 5},\n",
    "            [], [], ['x', 'y'],\n",
    "            lambda da: da.data\n",
    "        ),\n",
    "        # Case 2: ExpandAlongAxis - Upsampling\n",
    "        (\n",
    "            ExpandAlongAxis(ax=1, n_repeats=2), # ax=1 is 'x'\n",
    "            {'x': 20, 'y': 5},\n",
    "            [], [], ['x', 'y'],\n",
    "            lambda da: da.data.repeat(2, axis=0) # axis=0 in the 2D numpy array\n",
    "        ),\n",
    "        # Case 3: SubsetAlongAxis - Coarsening\n",
    "        (\n",
    "            SubsetAlongAxis(ax=1, n=5), # ax=1 is 'x'\n",
    "            {'x': 5, 'y': 5},\n",
    "            [], [], ['x', 'y'],\n",
    "            lambda da: da.isel(x=slice(0, 5)).data\n",
    "        ),\n",
    "        # Case 4: MeanAlongDim - Dimension reduction\n",
    "        (\n",
    "            MeanAlongDim(ax=2), # ax=2 is 'y'\n",
    "            {'x': 10},\n",
    "            [], [], ['x'],\n",
    "            lambda da: da.mean(dim='y').data\n",
    "        ),\n",
    "        # Case 5: AddAxis - Add a new dimension\n",
    "        (\n",
    "            AddAxis(ax=1), # Add new dim at axis 1\n",
    "            {'channel': 1, 'x': 10, 'y': 5},\n",
    "            ['channel'], [], ['x', 'y'],\n",
    "            lambda da: np.expand_dims(da.data, axis=0)\n",
    "        ),\n",
    "    ]\n",
    ")\n",
    "def test_predict_on_array_all_models(\n",
    "    map_dataset_fixture, model, output_tensor_dim, new_dim, core_dim, resample_dim, manual_transform\n",
    "):\n",
    "    \"\"\"\n",
    "    Tests reassembly, averaging, and coordinate assignment using a variety of models.\n",
    "    \"\"\"\n",
    "    dataset = map_dataset_fixture\n",
    "    bgen = dataset.X_generator\n",
    "    resample_factor = _get_resample_factor(bgen, output_tensor_dim, resample_dim)\n",
    "\n",
    "    # --- Run the function under test ---\n",
    "    result_da = predict_on_array(\n",
    "        dataset=dataset, model=model, output_tensor_dim=output_tensor_dim,\n",
    "        new_dim=new_dim, core_dim=core_dim, resample_dim=resample_dim, batch_size=4,\n",
    "        progress_bar=False\n",
    "    )\n",
    "\n",
    "    # --- Manually calculate the expected result ---\n",
    "    expected_size = _get_output_array_size(bgen, output_tensor_dim, new_dim, core_dim, resample_dim)\n",
    "    expected_sum = xr.DataArray(np.zeros(list(expected_size.values())), dims=list(expected_size.keys()))\n",
    "    expected_count = xr.full_like(expected_sum, 0, dtype=int)\n",
    "\n",
    "    for i in range(len(dataset)):\n",
    "        batch_da = bgen[i]\n",
    "        old_indexer = bgen._batch_selectors.selectors[i][0]\n",
    "        new_indexer = {}\n",
    "        for key in old_indexer:\n",
    "            if key in resample_dim:\n",
    "                new_indexer[key] = slice(int(old_indexer[key].start * resample_factor.get(key, 1)), int(old_indexer[key].stop * resample_factor.get(key, 1)))\n",
    "            elif key in core_dim:\n",
    "                new_indexer[key] = old_indexer[key]\n",
    "\n",
    "        model_output_on_batch = manual_transform(batch_da)\n",
    "        print(f\"Batch {i}: {new_indexer} -> {model_output_on_batch.shape}\")\n",
    "        print(f\"Expected sum shape: {expected_sum.loc[new_indexer].shape}\")\n",
    "        expected_sum.loc[new_indexer] += model_output_on_batch\n",
    "        expected_count.loc[new_indexer] += 1\n",
    "        \n",
    "    expected_avg_data = expected_sum.data / expected_count.data\n",
    "    \n",
    "    # --- Assert correctness ---\n",
    "    np.testing.assert_allclose(result_da.values, expected_avg_data, equal_nan=True)"
   ]
  },
  {
   "cell_type": "code",
   "execution_count": null,
   "metadata": {},
   "outputs": [],
   "source": [
    "!pytest -v test_predict_on_array.py"
   ]
  },
  {
   "cell_type": "code",
   "execution_count": null,
   "metadata": {},
   "outputs": [],
   "source": []
  }
 ],
 "metadata": {
  "kernelspec": {
   "display_name": "cookbook-dev",
   "language": "python",
   "name": "python3"
  },
  "language_info": {
   "codemirror_mode": {
    "name": "ipython",
    "version": 3
   },
   "file_extension": ".py",
   "mimetype": "text/x-python",
   "name": "python",
   "nbconvert_exporter": "python",
   "pygments_lexer": "ipython3",
   "version": "3.13.5"
  },
  "nbdime-conflicts": {
   "local_diff": [
    {
     "diff": [
      {
       "diff": [
        {
         "key": 0,
         "op": "addrange",
         "valuelist": [
          "Python 3"
         ]
        },
        {
         "key": 0,
         "length": 1,
         "op": "removerange"
        }
       ],
       "key": "display_name",
       "op": "patch"
      }
     ],
     "key": "kernelspec",
     "op": "patch"
    }
   ],
   "remote_diff": [
    {
     "diff": [
      {
       "diff": [
        {
         "key": 0,
         "op": "addrange",
         "valuelist": [
          "Python3"
         ]
        },
        {
         "key": 0,
         "length": 1,
         "op": "removerange"
        }
       ],
       "key": "display_name",
       "op": "patch"
      }
     ],
     "key": "kernelspec",
     "op": "patch"
    }
   ]
  },
  "toc-autonumbering": false
 },
 "nbformat": 4,
 "nbformat_minor": 4
}
