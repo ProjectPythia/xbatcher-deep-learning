{
 "cells": [
  {
   "cell_type": "markdown",
   "metadata": {},
   "source": [
    "# Loading Batches from Xarray Objects"
   ]
  },
  {
   "cell_type": "markdown",
   "metadata": {},
   "source": [
    "---"
   ]
  },
  {
   "cell_type": "markdown",
   "metadata": {},
   "source": [
    "## Overview\n",
    "\n",
    "Working with large, multi-dimensional datasets, common in fields like climate science and oceanography, presents a significant challenge when preparing data for machine learning models. The `xbatcher` library is designed to simplify this preprocessing step by serving as a bridge between the labeled, multi-dimensional data structures of `xarray` and the tensor-based inputs required by deep learning frameworks such as PyTorch and TensorFlow.\n",
    "\n",
    "This guide provides an introduction to the fundamentals of `xbatcher`. We will cover how to create a `BatchGenerator`, customize it for specific needs, and prepare the resulting data for integration with a PyTorch model.\n",
    "\n",
    "## Prerequisites\n",
    "\n",
    "| Concepts | Importance | Notes |\n",
    "| --- | --- | --- |\n",
    "| [Intro to Xarray](https://tutorial.xarray.dev/overview/xarray-in-45-min.html) | Necessary | Array indexing |\n",
    "| [Datasets and DataLoaders](https://docs.pytorch.org/tutorials/beginner/basics/data_tutorial.html) | Helpful | Batching data |"
   ]
  },
  {
   "cell_type": "markdown",
   "metadata": {},
   "source": [
    "## Imports"
   ]
  },
  {
   "cell_type": "code",
   "execution_count": null,
   "metadata": {},
   "outputs": [],
   "source": [
    "import xarray as xr\n",
    "import numpy as np\n",
    "import torch\n",
    "import xbatcher\n",
    "from xbatcher.loaders.torch import MapDataset, IterableDataset"
   ]
  },
  {
   "cell_type": "markdown",
   "metadata": {},
   "source": [
    "## Creating a Sample Dataset\n",
    "\n",
    "To begin, we will create a sample `xarray.Dataset`. This allows us to focus on the mechanics of `xbatcher` without the overhead of a specific real-world dataset. This sample can be replaced by any `xarray.Dataset` loaded from a file (e.g., NetCDF, Zarr)."
   ]
  },
  {
   "cell_type": "code",
   "execution_count": null,
   "metadata": {},
   "outputs": [],
   "source": [
    "ds = xr.Dataset(\n",
    "    {\n",
    "        \"temperature\": ((\"x\", \"y\", \"time\"), np.random.rand(100, 100, 50)),\n",
    "        \"precipitation\": ((\"x\", \"y\", \"time\"), np.random.rand(100, 100, 50)),\n",
    "    },\n",
    "    coords={\n",
    "        \"x\": np.arange(100),\n",
    "        \"y\": np.arange(100),\n",
    "        \"time\": np.arange(50),\n",
    "    },\n",
    ")\n",
    "ds"
   ]
  },
  {
   "cell_type": "markdown",
   "metadata": {},
   "source": [
    "The dataset contains two variables, `temperature` and `precipitation`, and three dimensions: `x`, `y`, and `time`. We will now use `xbatcher` to generate batches from this dataset."
   ]
  },
  {
   "cell_type": "markdown",
   "metadata": {},
   "source": [
    "## The `BatchGenerator`\n",
    "\n",
    "The `BatchGenerator` is the core component of `xbatcher`. It is a Python generator that yields batches of data from an `xarray` object."
   ]
  },
  {
   "cell_type": "code",
   "execution_count": null,
   "metadata": {},
   "outputs": [],
   "source": [
    "bgen = xbatcher.BatchGenerator(ds, input_dims={\"x\": 10, \"y\": 10})"
   ]
  },
  {
   "cell_type": "markdown",
   "metadata": {},
   "source": [
    "The `BatchGenerator` is initialized with the dataset and the `input_dims` parameter. `input_dims` specifies the size of the batches along each dimension. In this case, we are creating batches of size 10x10 along the `x` and `y` dimensions. The `time` dimension is not specified, so `xbatcher` will yield batches that include all time steps.\n",
    "\n",
    "Let's inspect the first batch generated."
   ]
  },
  {
   "cell_type": "code",
   "execution_count": null,
   "metadata": {},
   "outputs": [],
   "source": [
    "first_batch = next(iter(bgen))\n",
    "first_batch"
   ]
  },
  {
   "cell_type": "markdown",
   "metadata": {},
   "source": [
    "<svg width=\"153\" height=\"143\" style=\"stroke:rgb(0,0,0);stroke-width:1\"> <!-- Horizontal lines -->\n",
    "    <line x1=\"10\" y1=\"0\" x2=\"68\" y2=\"58\" style=\"stroke-width:2\" />\n",
    "    <line x1=\"10\" y1=\"35\" x2=\"68\" y2=\"93\" style=\"stroke-width:2\" /> <!-- Vertical lines -->\n",
    "    <line x1=\"10\" y1=\"0\" x2=\"10\" y2=\"35\" style=\"stroke-width:2\" />\n",
    "    <line x1=\"68\" y1=\"58\" x2=\"68\" y2=\"93\" style=\"stroke-width:2\" /> <!-- Colored Rectangle -->\n",
    "    <polygon\n",
    "        points=\"10.0,0.0 68.82352941176471,58.82352941176471 68.82352941176471,93.8317713259397 10.0,35.00824191417499\"\n",
    "        style=\"fill:#ECB172A0;stroke-width:0\" /> <!-- Horizontal lines -->\n",
    "    <line x1=\"10\" y1=\"0\" x2=\"45\" y2=\"0\" style=\"stroke-width:2\" />\n",
    "    <line x1=\"68\" y1=\"58\" x2=\"103\" y2=\"58\" style=\"stroke-width:2\" /> <!-- Vertical lines -->\n",
    "    <line x1=\"10\" y1=\"0\" x2=\"68\" y2=\"58\" style=\"stroke-width:2\" />\n",
    "    <line x1=\"45\" y1=\"0\" x2=\"103\" y2=\"58\" style=\"stroke-width:2\" /> <!-- Colored Rectangle -->\n",
    "    <polygon\n",
    "        points=\"10.0,0.0 45.00824191417499,0.0 103.8317713259397,58.82352941176471 68.82352941176471,58.82352941176471\"\n",
    "        style=\"fill:#ECB172A0;stroke-width:0\" /> <!-- Horizontal lines -->\n",
    "    <line x1=\"68\" y1=\"58\" x2=\"103\" y2=\"58\" style=\"stroke-width:2\" />\n",
    "    <line x1=\"68\" y1=\"93\" x2=\"103\" y2=\"93\" style=\"stroke-width:2\" /> <!-- Vertical lines -->\n",
    "    <line x1=\"68\" y1=\"58\" x2=\"68\" y2=\"93\" style=\"stroke-width:2\" />\n",
    "    <line x1=\"103\" y1=\"58\" x2=\"103\" y2=\"93\" style=\"stroke-width:2\" /> <!-- Colored Rectangle -->\n",
    "    <polygon\n",
    "        points=\"68.82352941176471,58.82352941176471 103.8317713259397,58.82352941176471 103.8317713259397,93.8317713259397 68.82352941176471,93.8317713259397\"\n",
    "        style=\"fill:#ECB172A0;stroke-width:0\" /> <!-- Text --> <text x=\"86.327650\" y=\"113.831771\" font-size=\"1.0rem\"\n",
    "        font-weight=\"100\" text-anchor=\"middle\">x: 10</text> <text x=\"123.831771\" y=\"76.327650\" font-size=\"1.0rem\"\n",
    "        font-weight=\"100\" text-anchor=\"middle\" transform=\"rotate(0,123.831771,76.327650)\">y: 10</text> <text x=\"29.411765\"\n",
    "        y=\"84.420007\" font-size=\"1.0rem\" font-weight=\"100\" text-anchor=\"middle\"\n",
    "        transform=\"rotate(45,29.411765,84.420007)\">time: 50</text>\n",
    "</svg>"
   ]
  },
  {
   "cell_type": "markdown",
   "metadata": {},
   "source": [
    "The first batch has dimensions `x=10`, `y=10`, and `time=50`, as expected. The `BatchGenerator` will yield 100 batches in total (10 batches in the x-direction * 10 batches in the y-direction)."
   ]
  },
  {
   "cell_type": "code",
   "execution_count": null,
   "metadata": {},
   "outputs": [],
   "source": [
    "print(f\"The BatchGenerator contains {len(bgen)} batches.\")"
   ]
  },
  {
   "cell_type": "markdown",
   "metadata": {},
   "source": [
    "## Overlapping Batches with `input_overlap`\n",
    "\n",
    "In many applications, it is useful to have overlapping batches to provide context from neighboring data points. The `input_overlap` parameter allows for this."
   ]
  },
  {
   "cell_type": "code",
   "execution_count": null,
   "metadata": {},
   "outputs": [],
   "source": [
    "bgen_overlap = xbatcher.BatchGenerator(\n",
    "    ds, \n",
    "    input_dims={\"x\": 10, \"y\": 10}, \n",
    "    input_overlap={\"x\": 2, \"y\": 2}\n",
    ")\n",
    "first_batch_overlap = next(iter(bgen_overlap))\n",
    "first_batch_overlap"
   ]
  },
  {
   "cell_type": "markdown",
   "metadata": {},
   "source": [
    "The `input_overlap` parameter specifies the number of elements to overlap between consecutive batches. The size of the batches themselves does not change. Let's verify this by inspecting the coordinates of the first two batches."
   ]
  },
  {
   "cell_type": "code",
   "execution_count": null,
   "metadata": {},
   "outputs": [],
   "source": [
    "print(f\"Batch 1 y-coords: {bgen_overlap[0].y.values}, Batch 1 x-coords: {bgen_overlap[0].x.values}\")\n",
    "print(f\"Batch 2 y-coords: {bgen_overlap[1].y.values}, Batch 2 x-coords: {bgen_overlap[1].x.values}\")\n",
    "print(f\"Batch 3 y-coords: {bgen_overlap[2].y.values}, Batch 3 x-coords: {bgen_overlap[2].x.values}\")\n",
    "print(f\"Batch 13 y-coords: {bgen_overlap[12].y.values}, Batch 13 x-coords: {bgen_overlap[12].x.values}\")\n",
    "print(f\"Batch 14 y-coords: {bgen_overlap[13].y.values}, Batch 11 x-coords: {bgen_overlap[13].x.values}\")"
   ]
  },
  {
   "cell_type": "markdown",
   "metadata": {},
   "source": [
    "As you can see, the second batch starts at `y=8`, which is an overlap of 2 elements with the first batch, which ends at `y=9`."
   ]
  },
  {
   "cell_type": "markdown",
   "metadata": {},
   "source": [
    "## Integration with PyTorch\n",
    "\n",
    "`xbatcher` provides `MapDataset` and `IterableDataset` to wrap the `BatchGenerator` for use with PyTorch."
   ]
  },
  {
   "cell_type": "markdown",
   "metadata": {},
   "source": [
    "### `MapDataset` vs. `IterableDataset`\n",
    "\n",
    "- `MapDataset`: Implements `__getitem__` and `__len__`, allowing for random access to data samples. This is the most common type of dataset in PyTorch.\n",
    "- `IterableDataset`: Implements `__iter__`, and is suitable for very large datasets that may not fit into memory, as it streams data.\n",
    "\n",
    "We will use `MapDataset` for this example."
   ]
  },
  {
   "cell_type": "code",
   "execution_count": null,
   "metadata": {},
   "outputs": [],
   "source": [
    "bgen[0].temperature.shape\n",
    "bgen[0].precipitation.shape"
   ]
  },
  {
   "cell_type": "code",
   "execution_count": null,
   "metadata": {},
   "outputs": [],
   "source": [
    "def patch_to_tensor(patch):\n",
    "    temp_patch = torch.tensor(patch.temperature.data)\n",
    "    prcp_patch = torch.tensor(patch.precipitation.data)\n",
    "    stacked_patch = torch.stack((temp_patch, prcp_patch), dim=0)\n",
    "    patch = stacked_patch\n",
    "    patch = torch.nan_to_num(patch)\n",
    "    # patch = torch.unsqueeze(patch, 0)\n",
    "    patch = patch.float()\n",
    "    return patch\n",
    "\n",
    "map_ds = MapDataset(bgen, transform=patch_to_tensor)"
   ]
  },
  {
   "cell_type": "markdown",
   "metadata": {},
   "source": [
    "The `MapDataset` can then be used with a PyTorch `DataLoader`, which provides utilities for shuffling, batching, and multiprocessing."
   ]
  },
  {
   "cell_type": "code",
   "execution_count": null,
   "metadata": {},
   "outputs": [],
   "source": [
    "dataloader = torch.utils.data.DataLoader(map_ds, batch_size=4)"
   ]
  },
  {
   "cell_type": "markdown",
   "metadata": {},
   "source": [
    "Inspecting a batch from the `DataLoader` reveals a batch of PyTorch tensors."
   ]
  },
  {
   "cell_type": "code",
   "execution_count": null,
   "metadata": {},
   "outputs": [],
   "source": [
    "torch_batch = next(iter(dataloader))\n",
    "torch_batch.shape"
   ]
  },
  {
   "cell_type": "markdown",
   "metadata": {},
   "source": [
    "The `DataLoader` has stacked 4 of the `xbatcher` batches, creating a new `batch` dimension of size 4. The data is now ready for use in a PyTorch model.\n",
    "\n",
    "In the next notebook, we will explore how to reconstruct an `xarray.Dataset` from a model's output."
   ]
  }
 ],
 "metadata": {
  "kernelspec": {
   "display_name": "cookbook-dev",
   "language": "python",
   "name": "python3"
  },
  "language_info": {
   "codemirror_mode": {
    "name": "ipython",
    "version": 3
   },
   "file_extension": ".py",
   "mimetype": "text/x-python",
   "name": "python",
   "nbconvert_exporter": "python",
   "pygments_lexer": "ipython3",
   "version": "3.13.5"
  }
 },
 "nbformat": 4,
 "nbformat_minor": 4
}
